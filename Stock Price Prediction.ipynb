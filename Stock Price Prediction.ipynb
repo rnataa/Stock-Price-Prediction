{
 "cells": [
  {
   "cell_type": "markdown",
   "id": "dca37edd",
   "metadata": {},
   "source": [
    "1) A. Lakukan eksplorasi data terlebih dahulu untuk memahami permasalahan \n",
    "yang dihadapi terlebih dahulu. Dataset yang diberikan adalah data time series, lakukan \n",
    "praproses data untuk menyelesaikan problem dari data tersebut. Pisahkan data time series \n",
    "tersebut menjadi dua bagian input dan output dengan window size = 5 [dari hari senin s.d \n",
    "jumat] dan horizon = 1 [hari senin saja]. Selanjutnya pisahkan dataset menjadi train, test dan \n",
    "validation set dengan ketentuan (80 train, 10 val, 10 test) "
   ]
  },
  {
   "cell_type": "code",
   "execution_count": 2,
   "id": "a6632106",
   "metadata": {},
   "outputs": [],
   "source": [
    "#Load data\n",
    "\n",
    "import numpy as np\n",
    "import pandas as pd\n",
    "\n",
    "amzn_data = pd.read_csv('D://AMZN.csv')\n",
    "csco_data = pd.read_csv('D://CSCO.csv')\n",
    "\n",
    "#Hanya menggunakan column date and close\n",
    "amzn_data = amzn_data[['Date', 'Close']]\n",
    "csco_data = csco_data[['Date', 'Close']]\n",
    "\n",
    "amzn_data['Date'] = pd.to_datetime(amzn_data['Date'])\n",
    "csco_data['Date'] = pd.to_datetime(csco_data['Date'])\n",
    "\n",
    "amzn_data = amzn_data.sort_values(by='Date').reset_index(drop=True)\n",
    "csco_data = csco_data.sort_values(by='Date').reset_index(drop=True)"
   ]
  },
  {
   "cell_type": "code",
   "execution_count": 3,
   "id": "e82e0162",
   "metadata": {},
   "outputs": [
    {
     "data": {
      "text/html": [
       "<div>\n",
       "<style scoped>\n",
       "    .dataframe tbody tr th:only-of-type {\n",
       "        vertical-align: middle;\n",
       "    }\n",
       "\n",
       "    .dataframe tbody tr th {\n",
       "        vertical-align: top;\n",
       "    }\n",
       "\n",
       "    .dataframe thead th {\n",
       "        text-align: right;\n",
       "    }\n",
       "</style>\n",
       "<table border=\"1\" class=\"dataframe\">\n",
       "  <thead>\n",
       "    <tr style=\"text-align: right;\">\n",
       "      <th></th>\n",
       "      <th>Date</th>\n",
       "      <th>Close</th>\n",
       "    </tr>\n",
       "  </thead>\n",
       "  <tbody>\n",
       "    <tr>\n",
       "      <th>0</th>\n",
       "      <td>1997-05-15</td>\n",
       "      <td>1.958333</td>\n",
       "    </tr>\n",
       "    <tr>\n",
       "      <th>1</th>\n",
       "      <td>1997-05-16</td>\n",
       "      <td>1.729167</td>\n",
       "    </tr>\n",
       "    <tr>\n",
       "      <th>2</th>\n",
       "      <td>1997-05-19</td>\n",
       "      <td>1.708333</td>\n",
       "    </tr>\n",
       "    <tr>\n",
       "      <th>3</th>\n",
       "      <td>1997-05-20</td>\n",
       "      <td>1.635417</td>\n",
       "    </tr>\n",
       "    <tr>\n",
       "      <th>4</th>\n",
       "      <td>1997-05-21</td>\n",
       "      <td>1.427083</td>\n",
       "    </tr>\n",
       "  </tbody>\n",
       "</table>\n",
       "</div>"
      ],
      "text/plain": [
       "        Date     Close\n",
       "0 1997-05-15  1.958333\n",
       "1 1997-05-16  1.729167\n",
       "2 1997-05-19  1.708333\n",
       "3 1997-05-20  1.635417\n",
       "4 1997-05-21  1.427083"
      ]
     },
     "execution_count": 3,
     "metadata": {},
     "output_type": "execute_result"
    }
   ],
   "source": [
    "amzn_data.head()"
   ]
  },
  {
   "cell_type": "code",
   "execution_count": 4,
   "id": "a9865ac4",
   "metadata": {},
   "outputs": [
    {
     "data": {
      "text/html": [
       "<div>\n",
       "<style scoped>\n",
       "    .dataframe tbody tr th:only-of-type {\n",
       "        vertical-align: middle;\n",
       "    }\n",
       "\n",
       "    .dataframe tbody tr th {\n",
       "        vertical-align: top;\n",
       "    }\n",
       "\n",
       "    .dataframe thead th {\n",
       "        text-align: right;\n",
       "    }\n",
       "</style>\n",
       "<table border=\"1\" class=\"dataframe\">\n",
       "  <thead>\n",
       "    <tr style=\"text-align: right;\">\n",
       "      <th></th>\n",
       "      <th>Date</th>\n",
       "      <th>Close</th>\n",
       "    </tr>\n",
       "  </thead>\n",
       "  <tbody>\n",
       "    <tr>\n",
       "      <th>0</th>\n",
       "      <td>1990-02-16</td>\n",
       "      <td>0.077257</td>\n",
       "    </tr>\n",
       "    <tr>\n",
       "      <th>1</th>\n",
       "      <td>1990-02-20</td>\n",
       "      <td>0.079861</td>\n",
       "    </tr>\n",
       "    <tr>\n",
       "      <th>2</th>\n",
       "      <td>1990-02-21</td>\n",
       "      <td>0.078125</td>\n",
       "    </tr>\n",
       "    <tr>\n",
       "      <th>3</th>\n",
       "      <td>1990-02-22</td>\n",
       "      <td>0.078993</td>\n",
       "    </tr>\n",
       "    <tr>\n",
       "      <th>4</th>\n",
       "      <td>1990-02-23</td>\n",
       "      <td>0.078559</td>\n",
       "    </tr>\n",
       "  </tbody>\n",
       "</table>\n",
       "</div>"
      ],
      "text/plain": [
       "        Date     Close\n",
       "0 1990-02-16  0.077257\n",
       "1 1990-02-20  0.079861\n",
       "2 1990-02-21  0.078125\n",
       "3 1990-02-22  0.078993\n",
       "4 1990-02-23  0.078559"
      ]
     },
     "execution_count": 4,
     "metadata": {},
     "output_type": "execute_result"
    }
   ],
   "source": [
    "csco_data.head()"
   ]
  },
  {
   "cell_type": "code",
   "execution_count": 7,
   "id": "44eae441",
   "metadata": {},
   "outputs": [],
   "source": [
    "#Membuat window size = 5\n",
    "\n",
    "def create_windows(data, window_size, horizon):\n",
    "    X, y = [], []\n",
    "    for i in range(len(data) - window_size - horizon + 1):\n",
    "        X.append(data.iloc[i:(i + window_size)].values)\n",
    "        y.append(data.iloc[(i + window_size):(i + window_size + horizon)].values)\n",
    "    return np.array(X), np.array(y)\n",
    "\n",
    "window_size = 5\n",
    "horizon = 1\n",
    "X_amzn, y_amzn = create_windows(amzn_data['Close'], window_size, horizon)\n",
    "X_csco, y_csco = create_windows(csco_data['Close'], window_size, horizon)"
   ]
  },
  {
   "cell_type": "code",
   "execution_count": 8,
   "id": "fd2ee3bb",
   "metadata": {},
   "outputs": [
    {
     "data": {
      "text/plain": [
       "((6067, 5), (758, 5), (759, 5), (6067, 1), (758, 1), (759, 1))"
      ]
     },
     "execution_count": 8,
     "metadata": {},
     "output_type": "execute_result"
    }
   ],
   "source": [
    "#Splitting data menjadi train, test dan validation set dengan ketentuan (80 train, 10 val, 10 test) \n",
    "\n",
    "def train_val_test_split(X, y, train_size=0.8, val_size=0.1, test_size=0.1):\n",
    "    assert train_size + val_size + test_size == 1\n",
    "    train_end = int(len(X) * train_size)\n",
    "    val_end = int(len(X) * (train_size + val_size))\n",
    "    X_train, X_val, X_test = X[:train_end], X[train_end:val_end], X[val_end:]\n",
    "    y_train, y_val, y_test = y[:train_end], y[train_end:val_end], y[val_end:]\n",
    "    return X_train, X_val, X_test, y_train, y_val, y_test\n",
    "\n",
    "X_train_amzn, X_val_amzn, X_test_amzn, y_train_amzn, y_val_amzn, y_test_amzn = train_val_test_split(X_amzn, y_amzn)\n",
    "X_train_csco, X_val_csco, X_test_csco, y_train_csco, y_val_csco, y_test_csco = train_val_test_split(X_csco, y_csco)\n",
    "\n",
    "X_train_amzn.shape, X_val_amzn.shape, X_test_amzn.shape, y_train_amzn.shape, y_val_amzn.shape, y_test_amzn.shape\n",
    "X_train_csco.shape, X_val_csco.shape, X_test_csco.shape, y_train_csco.shape, y_val_csco.shape, y_test_csco.shape\n"
   ]
  },
  {
   "cell_type": "markdown",
   "id": "5f1bb841",
   "metadata": {},
   "source": [
    "1) B. Buatlah arsitektur baseline dengan LSTM (units=50) dan layer akhir berupa \n",
    "node Perceptron dengan units=1. Activation function untuk LSTM menggunakan ReLU "
   ]
  },
  {
   "cell_type": "code",
   "execution_count": 9,
   "id": "c1e80836",
   "metadata": {},
   "outputs": [],
   "source": [
    "#Reshape data\n",
    "\n",
    "def correct_reshape(X):\n",
    "    return X.reshape((X.shape[0], X.shape[1], 1))\n",
    "\n",
    "X_train_amzn = correct_reshape(X_train_amzn)\n",
    "X_val_amzn = correct_reshape(X_val_amzn)\n",
    "X_test_amzn = correct_reshape(X_test_amzn)\n",
    "\n",
    "X_train_csco = correct_reshape(X_train_csco)\n",
    "X_val_csco = correct_reshape(X_val_csco)\n",
    "X_test_csco = correct_reshape(X_test_csco)"
   ]
  },
  {
   "cell_type": "code",
   "execution_count": 7,
   "id": "23c9a49c",
   "metadata": {},
   "outputs": [
    {
     "name": "stderr",
     "output_type": "stream",
     "text": [
      "D:\\anaconda3\\lib\\site-packages\\keras\\src\\layers\\rnn\\rnn.py:204: UserWarning: Do not pass an `input_shape`/`input_dim` argument to a layer. When using Sequential models, prefer using an `Input(shape)` object as the first layer in the model instead.\n",
      "  super().__init__(**kwargs)\n"
     ]
    },
    {
     "data": {
      "text/html": [
       "<pre style=\"white-space:pre;overflow-x:auto;line-height:normal;font-family:Menlo,'DejaVu Sans Mono',consolas,'Courier New',monospace\"><span style=\"font-weight: bold\">Model: \"sequential\"</span>\n",
       "</pre>\n"
      ],
      "text/plain": [
       "\u001b[1mModel: \"sequential\"\u001b[0m\n"
      ]
     },
     "metadata": {},
     "output_type": "display_data"
    },
    {
     "data": {
      "text/html": [
       "<pre style=\"white-space:pre;overflow-x:auto;line-height:normal;font-family:Menlo,'DejaVu Sans Mono',consolas,'Courier New',monospace\">┏━━━━━━━━━━━━━━━━━━━━━━━━━━━━━━━━━━━━━━┳━━━━━━━━━━━━━━━━━━━━━━━━━━━━━┳━━━━━━━━━━━━━━━━━┓\n",
       "┃<span style=\"font-weight: bold\"> Layer (type)                         </span>┃<span style=\"font-weight: bold\"> Output Shape                </span>┃<span style=\"font-weight: bold\">         Param # </span>┃\n",
       "┡━━━━━━━━━━━━━━━━━━━━━━━━━━━━━━━━━━━━━━╇━━━━━━━━━━━━━━━━━━━━━━━━━━━━━╇━━━━━━━━━━━━━━━━━┩\n",
       "│ lstm (<span style=\"color: #0087ff; text-decoration-color: #0087ff\">LSTM</span>)                          │ (<span style=\"color: #00d7ff; text-decoration-color: #00d7ff\">None</span>, <span style=\"color: #00af00; text-decoration-color: #00af00\">50</span>)                  │          <span style=\"color: #00af00; text-decoration-color: #00af00\">10,400</span> │\n",
       "├──────────────────────────────────────┼─────────────────────────────┼─────────────────┤\n",
       "│ dense (<span style=\"color: #0087ff; text-decoration-color: #0087ff\">Dense</span>)                        │ (<span style=\"color: #00d7ff; text-decoration-color: #00d7ff\">None</span>, <span style=\"color: #00af00; text-decoration-color: #00af00\">1</span>)                   │              <span style=\"color: #00af00; text-decoration-color: #00af00\">51</span> │\n",
       "└──────────────────────────────────────┴─────────────────────────────┴─────────────────┘\n",
       "</pre>\n"
      ],
      "text/plain": [
       "┏━━━━━━━━━━━━━━━━━━━━━━━━━━━━━━━━━━━━━━┳━━━━━━━━━━━━━━━━━━━━━━━━━━━━━┳━━━━━━━━━━━━━━━━━┓\n",
       "┃\u001b[1m \u001b[0m\u001b[1mLayer (type)                        \u001b[0m\u001b[1m \u001b[0m┃\u001b[1m \u001b[0m\u001b[1mOutput Shape               \u001b[0m\u001b[1m \u001b[0m┃\u001b[1m \u001b[0m\u001b[1m        Param #\u001b[0m\u001b[1m \u001b[0m┃\n",
       "┡━━━━━━━━━━━━━━━━━━━━━━━━━━━━━━━━━━━━━━╇━━━━━━━━━━━━━━━━━━━━━━━━━━━━━╇━━━━━━━━━━━━━━━━━┩\n",
       "│ lstm (\u001b[38;5;33mLSTM\u001b[0m)                          │ (\u001b[38;5;45mNone\u001b[0m, \u001b[38;5;34m50\u001b[0m)                  │          \u001b[38;5;34m10,400\u001b[0m │\n",
       "├──────────────────────────────────────┼─────────────────────────────┼─────────────────┤\n",
       "│ dense (\u001b[38;5;33mDense\u001b[0m)                        │ (\u001b[38;5;45mNone\u001b[0m, \u001b[38;5;34m1\u001b[0m)                   │              \u001b[38;5;34m51\u001b[0m │\n",
       "└──────────────────────────────────────┴─────────────────────────────┴─────────────────┘\n"
      ]
     },
     "metadata": {},
     "output_type": "display_data"
    },
    {
     "data": {
      "text/html": [
       "<pre style=\"white-space:pre;overflow-x:auto;line-height:normal;font-family:Menlo,'DejaVu Sans Mono',consolas,'Courier New',monospace\"><span style=\"font-weight: bold\"> Total params: </span><span style=\"color: #00af00; text-decoration-color: #00af00\">10,451</span> (40.82 KB)\n",
       "</pre>\n"
      ],
      "text/plain": [
       "\u001b[1m Total params: \u001b[0m\u001b[38;5;34m10,451\u001b[0m (40.82 KB)\n"
      ]
     },
     "metadata": {},
     "output_type": "display_data"
    },
    {
     "data": {
      "text/html": [
       "<pre style=\"white-space:pre;overflow-x:auto;line-height:normal;font-family:Menlo,'DejaVu Sans Mono',consolas,'Courier New',monospace\"><span style=\"font-weight: bold\"> Trainable params: </span><span style=\"color: #00af00; text-decoration-color: #00af00\">10,451</span> (40.82 KB)\n",
       "</pre>\n"
      ],
      "text/plain": [
       "\u001b[1m Trainable params: \u001b[0m\u001b[38;5;34m10,451\u001b[0m (40.82 KB)\n"
      ]
     },
     "metadata": {},
     "output_type": "display_data"
    },
    {
     "data": {
      "text/html": [
       "<pre style=\"white-space:pre;overflow-x:auto;line-height:normal;font-family:Menlo,'DejaVu Sans Mono',consolas,'Courier New',monospace\"><span style=\"font-weight: bold\"> Non-trainable params: </span><span style=\"color: #00af00; text-decoration-color: #00af00\">0</span> (0.00 B)\n",
       "</pre>\n"
      ],
      "text/plain": [
       "\u001b[1m Non-trainable params: \u001b[0m\u001b[38;5;34m0\u001b[0m (0.00 B)\n"
      ]
     },
     "metadata": {},
     "output_type": "display_data"
    },
    {
     "name": "stdout",
     "output_type": "stream",
     "text": [
      "Epoch 1/20\n",
      "\u001b[1m144/144\u001b[0m \u001b[32m━━━━━━━━━━━━━━━━━━━━\u001b[0m\u001b[37m\u001b[0m \u001b[1m2s\u001b[0m 4ms/step - loss: 6869.7017 - val_loss: 476.5648\n",
      "Epoch 2/20\n",
      "\u001b[1m144/144\u001b[0m \u001b[32m━━━━━━━━━━━━━━━━━━━━\u001b[0m\u001b[37m\u001b[0m \u001b[1m0s\u001b[0m 3ms/step - loss: 34.6343 - val_loss: 437.7341\n",
      "Epoch 3/20\n",
      "\u001b[1m144/144\u001b[0m \u001b[32m━━━━━━━━━━━━━━━━━━━━\u001b[0m\u001b[37m\u001b[0m \u001b[1m0s\u001b[0m 3ms/step - loss: 34.9524 - val_loss: 841.2777\n",
      "Epoch 4/20\n",
      "\u001b[1m144/144\u001b[0m \u001b[32m━━━━━━━━━━━━━━━━━━━━\u001b[0m\u001b[37m\u001b[0m \u001b[1m0s\u001b[0m 3ms/step - loss: 36.2080 - val_loss: 1444.4231\n",
      "Epoch 5/20\n",
      "\u001b[1m144/144\u001b[0m \u001b[32m━━━━━━━━━━━━━━━━━━━━\u001b[0m\u001b[37m\u001b[0m \u001b[1m0s\u001b[0m 3ms/step - loss: 24.0602 - val_loss: 389.0662\n",
      "Epoch 6/20\n",
      "\u001b[1m144/144\u001b[0m \u001b[32m━━━━━━━━━━━━━━━━━━━━\u001b[0m\u001b[37m\u001b[0m \u001b[1m0s\u001b[0m 3ms/step - loss: 28.1714 - val_loss: 755.8729\n",
      "Epoch 7/20\n",
      "\u001b[1m144/144\u001b[0m \u001b[32m━━━━━━━━━━━━━━━━━━━━\u001b[0m\u001b[37m\u001b[0m \u001b[1m1s\u001b[0m 3ms/step - loss: 27.6154 - val_loss: 544.3539\n",
      "Epoch 8/20\n",
      "\u001b[1m144/144\u001b[0m \u001b[32m━━━━━━━━━━━━━━━━━━━━\u001b[0m\u001b[37m\u001b[0m \u001b[1m0s\u001b[0m 3ms/step - loss: 24.3441 - val_loss: 499.7581\n",
      "Epoch 9/20\n",
      "\u001b[1m144/144\u001b[0m \u001b[32m━━━━━━━━━━━━━━━━━━━━\u001b[0m\u001b[37m\u001b[0m \u001b[1m0s\u001b[0m 2ms/step - loss: 24.0139 - val_loss: 315.9945\n",
      "Epoch 10/20\n",
      "\u001b[1m144/144\u001b[0m \u001b[32m━━━━━━━━━━━━━━━━━━━━\u001b[0m\u001b[37m\u001b[0m \u001b[1m0s\u001b[0m 3ms/step - loss: 24.4666 - val_loss: 314.3519\n",
      "Epoch 11/20\n",
      "\u001b[1m144/144\u001b[0m \u001b[32m━━━━━━━━━━━━━━━━━━━━\u001b[0m\u001b[37m\u001b[0m \u001b[1m0s\u001b[0m 3ms/step - loss: 26.5901 - val_loss: 365.6304\n",
      "Epoch 12/20\n",
      "\u001b[1m144/144\u001b[0m \u001b[32m━━━━━━━━━━━━━━━━━━━━\u001b[0m\u001b[37m\u001b[0m \u001b[1m1s\u001b[0m 2ms/step - loss: 26.4391 - val_loss: 221.6350\n",
      "Epoch 13/20\n",
      "\u001b[1m144/144\u001b[0m \u001b[32m━━━━━━━━━━━━━━━━━━━━\u001b[0m\u001b[37m\u001b[0m \u001b[1m0s\u001b[0m 3ms/step - loss: 22.8870 - val_loss: 570.3074\n",
      "Epoch 14/20\n",
      "\u001b[1m144/144\u001b[0m \u001b[32m━━━━━━━━━━━━━━━━━━━━\u001b[0m\u001b[37m\u001b[0m \u001b[1m0s\u001b[0m 3ms/step - loss: 33.3343 - val_loss: 577.8837\n",
      "Epoch 15/20\n",
      "\u001b[1m144/144\u001b[0m \u001b[32m━━━━━━━━━━━━━━━━━━━━\u001b[0m\u001b[37m\u001b[0m \u001b[1m0s\u001b[0m 3ms/step - loss: 23.6972 - val_loss: 893.7004\n",
      "Epoch 16/20\n",
      "\u001b[1m144/144\u001b[0m \u001b[32m━━━━━━━━━━━━━━━━━━━━\u001b[0m\u001b[37m\u001b[0m \u001b[1m0s\u001b[0m 2ms/step - loss: 21.9528 - val_loss: 734.4575\n",
      "Epoch 17/20\n",
      "\u001b[1m144/144\u001b[0m \u001b[32m━━━━━━━━━━━━━━━━━━━━\u001b[0m\u001b[37m\u001b[0m \u001b[1m0s\u001b[0m 2ms/step - loss: 22.2075 - val_loss: 236.6061\n",
      "Epoch 18/20\n",
      "\u001b[1m144/144\u001b[0m \u001b[32m━━━━━━━━━━━━━━━━━━━━\u001b[0m\u001b[37m\u001b[0m \u001b[1m0s\u001b[0m 3ms/step - loss: 17.6154 - val_loss: 338.3107\n",
      "Epoch 19/20\n",
      "\u001b[1m144/144\u001b[0m \u001b[32m━━━━━━━━━━━━━━━━━━━━\u001b[0m\u001b[37m\u001b[0m \u001b[1m0s\u001b[0m 3ms/step - loss: 22.5226 - val_loss: 303.9513\n",
      "Epoch 20/20\n",
      "\u001b[1m144/144\u001b[0m \u001b[32m━━━━━━━━━━━━━━━━━━━━\u001b[0m\u001b[37m\u001b[0m \u001b[1m0s\u001b[0m 3ms/step - loss: 21.6032 - val_loss: 276.2025\n",
      "Epoch 1/20\n",
      "\u001b[1m190/190\u001b[0m \u001b[32m━━━━━━━━━━━━━━━━━━━━\u001b[0m\u001b[37m\u001b[0m \u001b[1m1s\u001b[0m 3ms/step - loss: 0.5614 - val_loss: 0.1620\n",
      "Epoch 2/20\n",
      "\u001b[1m190/190\u001b[0m \u001b[32m━━━━━━━━━━━━━━━━━━━━\u001b[0m\u001b[37m\u001b[0m \u001b[1m1s\u001b[0m 3ms/step - loss: 0.5192 - val_loss: 0.1928\n",
      "Epoch 3/20\n",
      "\u001b[1m190/190\u001b[0m \u001b[32m━━━━━━━━━━━━━━━━━━━━\u001b[0m\u001b[37m\u001b[0m \u001b[1m1s\u001b[0m 3ms/step - loss: 0.6707 - val_loss: 0.1464\n",
      "Epoch 4/20\n",
      "\u001b[1m190/190\u001b[0m \u001b[32m━━━━━━━━━━━━━━━━━━━━\u001b[0m\u001b[37m\u001b[0m \u001b[1m0s\u001b[0m 2ms/step - loss: 0.5481 - val_loss: 0.1505\n",
      "Epoch 5/20\n",
      "\u001b[1m190/190\u001b[0m \u001b[32m━━━━━━━━━━━━━━━━━━━━\u001b[0m\u001b[37m\u001b[0m \u001b[1m1s\u001b[0m 3ms/step - loss: 0.5107 - val_loss: 0.1972\n",
      "Epoch 6/20\n",
      "\u001b[1m190/190\u001b[0m \u001b[32m━━━━━━━━━━━━━━━━━━━━\u001b[0m\u001b[37m\u001b[0m \u001b[1m1s\u001b[0m 3ms/step - loss: 0.5518 - val_loss: 0.1555\n",
      "Epoch 7/20\n",
      "\u001b[1m190/190\u001b[0m \u001b[32m━━━━━━━━━━━━━━━━━━━━\u001b[0m\u001b[37m\u001b[0m \u001b[1m0s\u001b[0m 2ms/step - loss: 0.5100 - val_loss: 0.3211\n",
      "Epoch 8/20\n",
      "\u001b[1m190/190\u001b[0m \u001b[32m━━━━━━━━━━━━━━━━━━━━\u001b[0m\u001b[37m\u001b[0m \u001b[1m0s\u001b[0m 2ms/step - loss: 0.5102 - val_loss: 0.1801\n",
      "Epoch 9/20\n",
      "\u001b[1m190/190\u001b[0m \u001b[32m━━━━━━━━━━━━━━━━━━━━\u001b[0m\u001b[37m\u001b[0m \u001b[1m1s\u001b[0m 3ms/step - loss: 0.5271 - val_loss: 0.2711\n",
      "Epoch 10/20\n",
      "\u001b[1m190/190\u001b[0m \u001b[32m━━━━━━━━━━━━━━━━━━━━\u001b[0m\u001b[37m\u001b[0m \u001b[1m1s\u001b[0m 3ms/step - loss: 0.4987 - val_loss: 0.2288\n",
      "Epoch 11/20\n",
      "\u001b[1m190/190\u001b[0m \u001b[32m━━━━━━━━━━━━━━━━━━━━\u001b[0m\u001b[37m\u001b[0m \u001b[1m0s\u001b[0m 2ms/step - loss: 0.4663 - val_loss: 0.1780\n",
      "Epoch 12/20\n",
      "\u001b[1m190/190\u001b[0m \u001b[32m━━━━━━━━━━━━━━━━━━━━\u001b[0m\u001b[37m\u001b[0m \u001b[1m0s\u001b[0m 2ms/step - loss: 0.5130 - val_loss: 0.1553\n",
      "Epoch 13/20\n",
      "\u001b[1m190/190\u001b[0m \u001b[32m━━━━━━━━━━━━━━━━━━━━\u001b[0m\u001b[37m\u001b[0m \u001b[1m0s\u001b[0m 2ms/step - loss: 0.5640 - val_loss: 0.2668\n",
      "Epoch 14/20\n",
      "\u001b[1m190/190\u001b[0m \u001b[32m━━━━━━━━━━━━━━━━━━━━\u001b[0m\u001b[37m\u001b[0m \u001b[1m1s\u001b[0m 2ms/step - loss: 0.5266 - val_loss: 0.2088\n",
      "Epoch 15/20\n",
      "\u001b[1m190/190\u001b[0m \u001b[32m━━━━━━━━━━━━━━━━━━━━\u001b[0m\u001b[37m\u001b[0m \u001b[1m1s\u001b[0m 2ms/step - loss: 0.5734 - val_loss: 0.1422\n",
      "Epoch 16/20\n",
      "\u001b[1m190/190\u001b[0m \u001b[32m━━━━━━━━━━━━━━━━━━━━\u001b[0m\u001b[37m\u001b[0m \u001b[1m0s\u001b[0m 2ms/step - loss: 0.4855 - val_loss: 0.1399\n",
      "Epoch 17/20\n",
      "\u001b[1m190/190\u001b[0m \u001b[32m━━━━━━━━━━━━━━━━━━━━\u001b[0m\u001b[37m\u001b[0m \u001b[1m1s\u001b[0m 3ms/step - loss: 0.5199 - val_loss: 0.1491\n",
      "Epoch 18/20\n",
      "\u001b[1m190/190\u001b[0m \u001b[32m━━━━━━━━━━━━━━━━━━━━\u001b[0m\u001b[37m\u001b[0m \u001b[1m1s\u001b[0m 3ms/step - loss: 0.5303 - val_loss: 0.1409\n",
      "Epoch 19/20\n",
      "\u001b[1m190/190\u001b[0m \u001b[32m━━━━━━━━━━━━━━━━━━━━\u001b[0m\u001b[37m\u001b[0m \u001b[1m1s\u001b[0m 3ms/step - loss: 0.5432 - val_loss: 0.1557\n",
      "Epoch 20/20\n",
      "\u001b[1m190/190\u001b[0m \u001b[32m━━━━━━━━━━━━━━━━━━━━\u001b[0m\u001b[37m\u001b[0m \u001b[1m0s\u001b[0m 2ms/step - loss: 0.5195 - val_loss: 0.2100\n"
     ]
    }
   ],
   "source": [
    "#Arsitektur baseline\n",
    "\n",
    "from tensorflow.keras.models import Sequential\n",
    "from tensorflow.keras.layers import LSTM, Dense, Dropout\n",
    "from tensorflow.keras.optimizers import Adam\n",
    "\n",
    "model1 = Sequential()\n",
    "model1.add(LSTM(units=50, activation='relu', input_shape=(window_size, 1)))\n",
    "model1.add(Dense(units=1))\n",
    "\n",
    "model1.compile(optimizer='adam', loss='mse')\n",
    "model1.summary()\n",
    "\n",
    "history_amzn = model1.fit(X_train_amzn, y_train_amzn, epochs=20, validation_data=(X_val_amzn, y_val_amzn))\n",
    "history_csco = model1.fit(X_train_csco, y_train_csco, epochs=20, validation_data=(X_val_csco, y_val_csco))"
   ]
  },
  {
   "cell_type": "code",
   "execution_count": 8,
   "id": "2a3a771c",
   "metadata": {},
   "outputs": [
    {
     "name": "stdout",
     "output_type": "stream",
     "text": [
      "\u001b[1m18/18\u001b[0m \u001b[32m━━━━━━━━━━━━━━━━━━━━\u001b[0m\u001b[37m\u001b[0m \u001b[1m0s\u001b[0m 2ms/step  \n",
      "\u001b[1m24/24\u001b[0m \u001b[32m━━━━━━━━━━━━━━━━━━━━\u001b[0m\u001b[37m\u001b[0m \u001b[1m0s\u001b[0m 7ms/step\n"
     ]
    }
   ],
   "source": [
    "y_pred_amzn_1 = model1.predict(X_test_amzn)\n",
    "y_pred_csco_1 = model1.predict(X_test_csco)\n"
   ]
  },
  {
   "cell_type": "markdown",
   "id": "2e760d07",
   "metadata": {},
   "source": [
    "1) C.Setelah mengetahui hasil dari nomor (1c), modifikasi arsitektur \n",
    "pada nomor 1c untuk mendapatkan unjuk kerja yang optimal (kalian dapat menambahkan atau \n",
    "mengurangi arsitektur tersebut, atau mengganti hyperparameter, atau menggunakan tuning \n",
    "pada hyperparameter). Jelaskan alasan kalian untuk menggunakan pendekatan yang kalian pilih.\n",
    "\n",
    "ANSWER\n",
    "Setelah melihat hasil pada baseline model, saya hanya memodifikasi sedikit arsitekturnya dengan mengganti activation function dari ReLU menjadi tanh. Selebihnya sama. Lalu saya juga menambahkan learning rate sebesar 0.0010 pada arsitektur yang sudah dimodifikasi. Alasan saya menggunakan pendekatan ini adalah: \n",
    "- Saya sudah mencoba menambahkan 1 layer, 2layer, dsb serta menambahkan dropout layer sebesar 0.3, 0.4 dan 0.5. Akan tetapi dengan melakukan penambahan tersebut hasil dari model semakin buruk dengan angka loss dan val loss yang malah bertambah tinggi. \n",
    "- Saya juga sudah mencoba menggunakakn relu saat menambahkan layer & dropout tapi tetap saja hasilnya semakin buruk. \n",
    "- Selain itu untuk angka learning rate saya memilih 0.0010 karena saya sudah mencoba angka lain seperti 0.01, 0.005, 0.001 akan tetapi berdasarkan hasilnya 0.0010 memberikan hasil yang paling baik. "
   ]
  },
  {
   "cell_type": "code",
   "execution_count": 10,
   "id": "b1579307",
   "metadata": {},
   "outputs": [],
   "source": [
    "#Reshape data\n",
    "\n",
    "def reshape_data(X):\n",
    "    return X.reshape((X.shape[0], X.shape[1], 1))\n",
    "\n",
    "X_train_amzn = reshape_data(X_train_amzn)\n",
    "X_val_amzn = reshape_data(X_val_amzn)\n",
    "X_test_amzn = reshape_data(X_test_amzn)\n",
    "\n",
    "X_train_csco = reshape_data(X_train_csco)\n",
    "X_val_csco = reshape_data(X_val_csco)\n",
    "X_test_csco = reshape_data(X_test_csco)"
   ]
  },
  {
   "cell_type": "code",
   "execution_count": 9,
   "id": "e8e19372",
   "metadata": {},
   "outputs": [
    {
     "data": {
      "text/html": [
       "<pre style=\"white-space:pre;overflow-x:auto;line-height:normal;font-family:Menlo,'DejaVu Sans Mono',consolas,'Courier New',monospace\"><span style=\"font-weight: bold\">Model: \"sequential_1\"</span>\n",
       "</pre>\n"
      ],
      "text/plain": [
       "\u001b[1mModel: \"sequential_1\"\u001b[0m\n"
      ]
     },
     "metadata": {},
     "output_type": "display_data"
    },
    {
     "data": {
      "text/html": [
       "<pre style=\"white-space:pre;overflow-x:auto;line-height:normal;font-family:Menlo,'DejaVu Sans Mono',consolas,'Courier New',monospace\">┏━━━━━━━━━━━━━━━━━━━━━━━━━━━━━━━━━━━━━━┳━━━━━━━━━━━━━━━━━━━━━━━━━━━━━┳━━━━━━━━━━━━━━━━━┓\n",
       "┃<span style=\"font-weight: bold\"> Layer (type)                         </span>┃<span style=\"font-weight: bold\"> Output Shape                </span>┃<span style=\"font-weight: bold\">         Param # </span>┃\n",
       "┡━━━━━━━━━━━━━━━━━━━━━━━━━━━━━━━━━━━━━━╇━━━━━━━━━━━━━━━━━━━━━━━━━━━━━╇━━━━━━━━━━━━━━━━━┩\n",
       "│ lstm_1 (<span style=\"color: #0087ff; text-decoration-color: #0087ff\">LSTM</span>)                        │ (<span style=\"color: #00d7ff; text-decoration-color: #00d7ff\">None</span>, <span style=\"color: #00af00; text-decoration-color: #00af00\">50</span>)                  │          <span style=\"color: #00af00; text-decoration-color: #00af00\">10,400</span> │\n",
       "├──────────────────────────────────────┼─────────────────────────────┼─────────────────┤\n",
       "│ dense_1 (<span style=\"color: #0087ff; text-decoration-color: #0087ff\">Dense</span>)                      │ (<span style=\"color: #00d7ff; text-decoration-color: #00d7ff\">None</span>, <span style=\"color: #00af00; text-decoration-color: #00af00\">1</span>)                   │              <span style=\"color: #00af00; text-decoration-color: #00af00\">51</span> │\n",
       "└──────────────────────────────────────┴─────────────────────────────┴─────────────────┘\n",
       "</pre>\n"
      ],
      "text/plain": [
       "┏━━━━━━━━━━━━━━━━━━━━━━━━━━━━━━━━━━━━━━┳━━━━━━━━━━━━━━━━━━━━━━━━━━━━━┳━━━━━━━━━━━━━━━━━┓\n",
       "┃\u001b[1m \u001b[0m\u001b[1mLayer (type)                        \u001b[0m\u001b[1m \u001b[0m┃\u001b[1m \u001b[0m\u001b[1mOutput Shape               \u001b[0m\u001b[1m \u001b[0m┃\u001b[1m \u001b[0m\u001b[1m        Param #\u001b[0m\u001b[1m \u001b[0m┃\n",
       "┡━━━━━━━━━━━━━━━━━━━━━━━━━━━━━━━━━━━━━━╇━━━━━━━━━━━━━━━━━━━━━━━━━━━━━╇━━━━━━━━━━━━━━━━━┩\n",
       "│ lstm_1 (\u001b[38;5;33mLSTM\u001b[0m)                        │ (\u001b[38;5;45mNone\u001b[0m, \u001b[38;5;34m50\u001b[0m)                  │          \u001b[38;5;34m10,400\u001b[0m │\n",
       "├──────────────────────────────────────┼─────────────────────────────┼─────────────────┤\n",
       "│ dense_1 (\u001b[38;5;33mDense\u001b[0m)                      │ (\u001b[38;5;45mNone\u001b[0m, \u001b[38;5;34m1\u001b[0m)                   │              \u001b[38;5;34m51\u001b[0m │\n",
       "└──────────────────────────────────────┴─────────────────────────────┴─────────────────┘\n"
      ]
     },
     "metadata": {},
     "output_type": "display_data"
    },
    {
     "data": {
      "text/html": [
       "<pre style=\"white-space:pre;overflow-x:auto;line-height:normal;font-family:Menlo,'DejaVu Sans Mono',consolas,'Courier New',monospace\"><span style=\"font-weight: bold\"> Total params: </span><span style=\"color: #00af00; text-decoration-color: #00af00\">10,451</span> (40.82 KB)\n",
       "</pre>\n"
      ],
      "text/plain": [
       "\u001b[1m Total params: \u001b[0m\u001b[38;5;34m10,451\u001b[0m (40.82 KB)\n"
      ]
     },
     "metadata": {},
     "output_type": "display_data"
    },
    {
     "data": {
      "text/html": [
       "<pre style=\"white-space:pre;overflow-x:auto;line-height:normal;font-family:Menlo,'DejaVu Sans Mono',consolas,'Courier New',monospace\"><span style=\"font-weight: bold\"> Trainable params: </span><span style=\"color: #00af00; text-decoration-color: #00af00\">10,451</span> (40.82 KB)\n",
       "</pre>\n"
      ],
      "text/plain": [
       "\u001b[1m Trainable params: \u001b[0m\u001b[38;5;34m10,451\u001b[0m (40.82 KB)\n"
      ]
     },
     "metadata": {},
     "output_type": "display_data"
    },
    {
     "data": {
      "text/html": [
       "<pre style=\"white-space:pre;overflow-x:auto;line-height:normal;font-family:Menlo,'DejaVu Sans Mono',consolas,'Courier New',monospace\"><span style=\"font-weight: bold\"> Non-trainable params: </span><span style=\"color: #00af00; text-decoration-color: #00af00\">0</span> (0.00 B)\n",
       "</pre>\n"
      ],
      "text/plain": [
       "\u001b[1m Non-trainable params: \u001b[0m\u001b[38;5;34m0\u001b[0m (0.00 B)\n"
      ]
     },
     "metadata": {},
     "output_type": "display_data"
    },
    {
     "name": "stdout",
     "output_type": "stream",
     "text": [
      "Epoch 1/20\n",
      "\u001b[1m144/144\u001b[0m \u001b[32m━━━━━━━━━━━━━━━━━━━━\u001b[0m\u001b[37m\u001b[0m \u001b[1m2s\u001b[0m 5ms/step - loss: 24928.3984 - val_loss: 638420.6875\n",
      "Epoch 2/20\n",
      "\u001b[1m144/144\u001b[0m \u001b[32m━━━━━━━━━━━━━━━━━━━━\u001b[0m\u001b[37m\u001b[0m \u001b[1m1s\u001b[0m 3ms/step - loss: 20426.4512 - val_loss: 623783.6250\n",
      "Epoch 3/20\n",
      "\u001b[1m144/144\u001b[0m \u001b[32m━━━━━━━━━━━━━━━━━━━━\u001b[0m\u001b[37m\u001b[0m \u001b[1m0s\u001b[0m 3ms/step - loss: 19519.2910 - val_loss: 612923.1875\n",
      "Epoch 4/20\n",
      "\u001b[1m144/144\u001b[0m \u001b[32m━━━━━━━━━━━━━━━━━━━━\u001b[0m\u001b[37m\u001b[0m \u001b[1m0s\u001b[0m 3ms/step - loss: 18642.1953 - val_loss: 602902.3750\n",
      "Epoch 5/20\n",
      "\u001b[1m144/144\u001b[0m \u001b[32m━━━━━━━━━━━━━━━━━━━━\u001b[0m\u001b[37m\u001b[0m \u001b[1m0s\u001b[0m 3ms/step - loss: 17828.4121 - val_loss: 593403.6875\n",
      "Epoch 6/20\n",
      "\u001b[1m144/144\u001b[0m \u001b[32m━━━━━━━━━━━━━━━━━━━━\u001b[0m\u001b[37m\u001b[0m \u001b[1m0s\u001b[0m 3ms/step - loss: 17129.4219 - val_loss: 584255.1875\n",
      "Epoch 7/20\n",
      "\u001b[1m144/144\u001b[0m \u001b[32m━━━━━━━━━━━━━━━━━━━━\u001b[0m\u001b[37m\u001b[0m \u001b[1m0s\u001b[0m 3ms/step - loss: 16164.9082 - val_loss: 575468.8750\n",
      "Epoch 8/20\n",
      "\u001b[1m144/144\u001b[0m \u001b[32m━━━━━━━━━━━━━━━━━━━━\u001b[0m\u001b[37m\u001b[0m \u001b[1m0s\u001b[0m 3ms/step - loss: 15021.3057 - val_loss: 566832.5000\n",
      "Epoch 9/20\n",
      "\u001b[1m144/144\u001b[0m \u001b[32m━━━━━━━━━━━━━━━━━━━━\u001b[0m\u001b[37m\u001b[0m \u001b[1m0s\u001b[0m 3ms/step - loss: 13593.8389 - val_loss: 558451.0625\n",
      "Epoch 10/20\n",
      "\u001b[1m144/144\u001b[0m \u001b[32m━━━━━━━━━━━━━━━━━━━━\u001b[0m\u001b[37m\u001b[0m \u001b[1m0s\u001b[0m 3ms/step - loss: 13520.8965 - val_loss: 550197.4375\n",
      "Epoch 11/20\n",
      "\u001b[1m144/144\u001b[0m \u001b[32m━━━━━━━━━━━━━━━━━━━━\u001b[0m\u001b[37m\u001b[0m \u001b[1m1s\u001b[0m 3ms/step - loss: 13100.8965 - val_loss: 542219.3125\n",
      "Epoch 12/20\n",
      "\u001b[1m144/144\u001b[0m \u001b[32m━━━━━━━━━━━━━━━━━━━━\u001b[0m\u001b[37m\u001b[0m \u001b[1m0s\u001b[0m 3ms/step - loss: 12533.6006 - val_loss: 534362.0000\n",
      "Epoch 13/20\n",
      "\u001b[1m144/144\u001b[0m \u001b[32m━━━━━━━━━━━━━━━━━━━━\u001b[0m\u001b[37m\u001b[0m \u001b[1m0s\u001b[0m 3ms/step - loss: 11210.3301 - val_loss: 526685.0625\n",
      "Epoch 14/20\n",
      "\u001b[1m144/144\u001b[0m \u001b[32m━━━━━━━━━━━━━━━━━━━━\u001b[0m\u001b[37m\u001b[0m \u001b[1m0s\u001b[0m 3ms/step - loss: 11640.7686 - val_loss: 519035.5625\n",
      "Epoch 15/20\n",
      "\u001b[1m144/144\u001b[0m \u001b[32m━━━━━━━━━━━━━━━━━━━━\u001b[0m\u001b[37m\u001b[0m \u001b[1m0s\u001b[0m 2ms/step - loss: 10677.6445 - val_loss: 511548.4375\n",
      "Epoch 16/20\n",
      "\u001b[1m144/144\u001b[0m \u001b[32m━━━━━━━━━━━━━━━━━━━━\u001b[0m\u001b[37m\u001b[0m \u001b[1m0s\u001b[0m 3ms/step - loss: 10021.9121 - val_loss: 504173.3125\n",
      "Epoch 17/20\n",
      "\u001b[1m144/144\u001b[0m \u001b[32m━━━━━━━━━━━━━━━━━━━━\u001b[0m\u001b[37m\u001b[0m \u001b[1m0s\u001b[0m 3ms/step - loss: 9706.0137 - val_loss: 496898.7188\n",
      "Epoch 18/20\n",
      "\u001b[1m144/144\u001b[0m \u001b[32m━━━━━━━━━━━━━━━━━━━━\u001b[0m\u001b[37m\u001b[0m \u001b[1m1s\u001b[0m 3ms/step - loss: 9146.6143 - val_loss: 489752.3125\n",
      "Epoch 19/20\n",
      "\u001b[1m144/144\u001b[0m \u001b[32m━━━━━━━━━━━━━━━━━━━━\u001b[0m\u001b[37m\u001b[0m \u001b[1m0s\u001b[0m 3ms/step - loss: 8807.5117 - val_loss: 482727.8438\n",
      "Epoch 20/20\n",
      "\u001b[1m144/144\u001b[0m \u001b[32m━━━━━━━━━━━━━━━━━━━━\u001b[0m\u001b[37m\u001b[0m \u001b[1m0s\u001b[0m 3ms/step - loss: 8873.4600 - val_loss: 475807.2188\n",
      "Epoch 1/20\n",
      "\u001b[1m190/190\u001b[0m \u001b[32m━━━━━━━━━━━━━━━━━━━━\u001b[0m\u001b[37m\u001b[0m \u001b[1m1s\u001b[0m 3ms/step - loss: 0.5292 - val_loss: 0.1525\n",
      "Epoch 2/20\n",
      "\u001b[1m190/190\u001b[0m \u001b[32m━━━━━━━━━━━━━━━━━━━━\u001b[0m\u001b[37m\u001b[0m \u001b[1m1s\u001b[0m 3ms/step - loss: 0.4463 - val_loss: 0.1557\n",
      "Epoch 3/20\n",
      "\u001b[1m190/190\u001b[0m \u001b[32m━━━━━━━━━━━━━━━━━━━━\u001b[0m\u001b[37m\u001b[0m \u001b[1m1s\u001b[0m 3ms/step - loss: 0.4912 - val_loss: 0.2793\n",
      "Epoch 4/20\n",
      "\u001b[1m190/190\u001b[0m \u001b[32m━━━━━━━━━━━━━━━━━━━━\u001b[0m\u001b[37m\u001b[0m \u001b[1m1s\u001b[0m 3ms/step - loss: 0.4464 - val_loss: 0.1926\n",
      "Epoch 5/20\n",
      "\u001b[1m190/190\u001b[0m \u001b[32m━━━━━━━━━━━━━━━━━━━━\u001b[0m\u001b[37m\u001b[0m \u001b[1m1s\u001b[0m 2ms/step - loss: 0.4965 - val_loss: 0.1239\n",
      "Epoch 6/20\n",
      "\u001b[1m190/190\u001b[0m \u001b[32m━━━━━━━━━━━━━━━━━━━━\u001b[0m\u001b[37m\u001b[0m \u001b[1m1s\u001b[0m 3ms/step - loss: 0.5065 - val_loss: 0.1279\n",
      "Epoch 7/20\n",
      "\u001b[1m190/190\u001b[0m \u001b[32m━━━━━━━━━━━━━━━━━━━━\u001b[0m\u001b[37m\u001b[0m \u001b[1m1s\u001b[0m 3ms/step - loss: 0.4771 - val_loss: 0.2405\n",
      "Epoch 8/20\n",
      "\u001b[1m190/190\u001b[0m \u001b[32m━━━━━━━━━━━━━━━━━━━━\u001b[0m\u001b[37m\u001b[0m \u001b[1m0s\u001b[0m 2ms/step - loss: 0.5340 - val_loss: 0.2125\n",
      "Epoch 9/20\n",
      "\u001b[1m190/190\u001b[0m \u001b[32m━━━━━━━━━━━━━━━━━━━━\u001b[0m\u001b[37m\u001b[0m \u001b[1m1s\u001b[0m 3ms/step - loss: 0.5690 - val_loss: 0.1313\n",
      "Epoch 10/20\n",
      "\u001b[1m190/190\u001b[0m \u001b[32m━━━━━━━━━━━━━━━━━━━━\u001b[0m\u001b[37m\u001b[0m \u001b[1m1s\u001b[0m 3ms/step - loss: 0.4817 - val_loss: 0.1583\n",
      "Epoch 11/20\n",
      "\u001b[1m190/190\u001b[0m \u001b[32m━━━━━━━━━━━━━━━━━━━━\u001b[0m\u001b[37m\u001b[0m \u001b[1m2s\u001b[0m 10ms/step - loss: 0.5008 - val_loss: 0.1831\n",
      "Epoch 12/20\n",
      "\u001b[1m190/190\u001b[0m \u001b[32m━━━━━━━━━━━━━━━━━━━━\u001b[0m\u001b[37m\u001b[0m \u001b[1m1s\u001b[0m 3ms/step - loss: 0.5435 - val_loss: 0.2509\n",
      "Epoch 13/20\n",
      "\u001b[1m190/190\u001b[0m \u001b[32m━━━━━━━━━━━━━━━━━━━━\u001b[0m\u001b[37m\u001b[0m \u001b[1m1s\u001b[0m 4ms/step - loss: 0.5208 - val_loss: 0.4385\n",
      "Epoch 14/20\n",
      "\u001b[1m190/190\u001b[0m \u001b[32m━━━━━━━━━━━━━━━━━━━━\u001b[0m\u001b[37m\u001b[0m \u001b[1m1s\u001b[0m 5ms/step - loss: 0.5209 - val_loss: 0.1450\n",
      "Epoch 15/20\n",
      "\u001b[1m190/190\u001b[0m \u001b[32m━━━━━━━━━━━━━━━━━━━━\u001b[0m\u001b[37m\u001b[0m \u001b[1m1s\u001b[0m 3ms/step - loss: 0.5457 - val_loss: 0.1300\n",
      "Epoch 16/20\n",
      "\u001b[1m190/190\u001b[0m \u001b[32m━━━━━━━━━━━━━━━━━━━━\u001b[0m\u001b[37m\u001b[0m \u001b[1m1s\u001b[0m 3ms/step - loss: 0.4666 - val_loss: 0.1426\n",
      "Epoch 17/20\n",
      "\u001b[1m190/190\u001b[0m \u001b[32m━━━━━━━━━━━━━━━━━━━━\u001b[0m\u001b[37m\u001b[0m \u001b[1m0s\u001b[0m 2ms/step - loss: 0.4879 - val_loss: 0.9923\n",
      "Epoch 18/20\n",
      "\u001b[1m190/190\u001b[0m \u001b[32m━━━━━━━━━━━━━━━━━━━━\u001b[0m\u001b[37m\u001b[0m \u001b[1m1s\u001b[0m 3ms/step - loss: 0.6954 - val_loss: 0.1475\n",
      "Epoch 19/20\n",
      "\u001b[1m190/190\u001b[0m \u001b[32m━━━━━━━━━━━━━━━━━━━━\u001b[0m\u001b[37m\u001b[0m \u001b[1m1s\u001b[0m 3ms/step - loss: 0.5013 - val_loss: 0.1251\n",
      "Epoch 20/20\n",
      "\u001b[1m190/190\u001b[0m \u001b[32m━━━━━━━━━━━━━━━━━━━━\u001b[0m\u001b[37m\u001b[0m \u001b[1m0s\u001b[0m 2ms/step - loss: 0.4775 - val_loss: 0.1356\n"
     ]
    }
   ],
   "source": [
    "#Modified model\n",
    "\n",
    "model2 = Sequential()\n",
    "model2.add(LSTM(units=50, activation='tanh', input_shape=(window_size, 1)))\n",
    "model2.add(Dense(units=1))\n",
    "\n",
    "model2.compile(optimizer=Adam(learning_rate=0.0010), loss='mse')\n",
    "model2.summary()\n",
    "\n",
    "history_amzn = model2.fit(X_train_amzn, y_train_amzn, epochs=20, validation_data=(X_val_amzn, y_val_amzn))\n",
    "history_csco = model2.fit(X_train_csco, y_train_csco, epochs=20, validation_data=(X_val_csco, y_val_csco))"
   ]
  },
  {
   "cell_type": "code",
   "execution_count": 10,
   "id": "6f9133ac",
   "metadata": {},
   "outputs": [
    {
     "name": "stdout",
     "output_type": "stream",
     "text": [
      "\u001b[1m18/18\u001b[0m \u001b[32m━━━━━━━━━━━━━━━━━━━━\u001b[0m\u001b[37m\u001b[0m \u001b[1m0s\u001b[0m 2ms/step  \n",
      "\u001b[1m24/24\u001b[0m \u001b[32m━━━━━━━━━━━━━━━━━━━━\u001b[0m\u001b[37m\u001b[0m \u001b[1m0s\u001b[0m 7ms/step\n"
     ]
    }
   ],
   "source": [
    "y_pred_amzn_2 = model2.predict(X_test_amzn)\n",
    "y_pred_csco_2 = model2.predict(X_test_csco)\n"
   ]
  },
  {
   "cell_type": "markdown",
   "id": "79636295",
   "metadata": {},
   "source": [
    "1) D.Lakukan evaluasi unjuk kerja kedua arsitektur di atas pada test set dengan \n",
    "mencari nilai RMSE, MAE dan MAPE. Dan berikan penjelasan mengenai hasilnya dengan rinci. "
   ]
  },
  {
   "cell_type": "code",
   "execution_count": 11,
   "id": "6f13f557",
   "metadata": {},
   "outputs": [],
   "source": [
    "import numpy as np\n",
    "from sklearn.metrics import mean_squared_error, mean_absolute_error\n",
    "\n",
    "def mean_absolute_percentage_error(y_true, y_pred): \n",
    "    y_true, y_pred = np.array(y_true), np.array(y_pred)\n",
    "    return np.mean(np.abs((y_true - y_pred) / y_true)) * 100\n",
    "\n",
    "def evaluate_performance(y_true, y_pred):\n",
    "    rmse = np.sqrt(mean_squared_error(y_true, y_pred))\n",
    "    mae = mean_absolute_error(y_true, y_pred)\n",
    "    mape = mean_absolute_percentage_error(y_true, y_pred)\n",
    "    return rmse, mae, mape"
   ]
  },
  {
   "cell_type": "code",
   "execution_count": 13,
   "id": "31ab8b69",
   "metadata": {},
   "outputs": [
    {
     "name": "stdout",
     "output_type": "stream",
     "text": [
      "First Model (LSTM ReLU):\n",
      "AMZN - RMSE: 52.971680201585556, MAE: 42.045628017849396, MAPE: 2.4418587493866313\n",
      "CSCO - RMSE: 0.8757505646688019, MAE: 0.6122162709594244, MAPE: 1.4299722972725792\n",
      "\n",
      "Second Model (LSTM tanh):\n",
      "AMZN - RMSE: 1620.0698427470043, MAE: 1608.4415191411972, MAPE: 92.85633714179079\n",
      "CSCO - RMSE: 0.8075588052300229, MAE: 0.5336914741003465, MAPE: 1.2332477880682915\n"
     ]
    }
   ],
   "source": [
    "#Evaluation\n",
    "\n",
    "#Model1\n",
    "rmse_amzn_1, mae_amzn_1, mape_amzn_1 = evaluate_performance(y_test_amzn, y_pred_amzn_1)\n",
    "rmse_csco_1, mae_csco_1, mape_csco_1 = evaluate_performance(y_test_csco, y_pred_csco_1)\n",
    "\n",
    "#Model2\n",
    "rmse_amzn_2, mae_amzn_2, mape_amzn_2 = evaluate_performance(y_test_amzn, y_pred_amzn_2)\n",
    "rmse_csco_2, mae_csco_2, mape_csco_2 = evaluate_performance(y_test_csco, y_pred_csco_2)\n",
    "\n",
    "#Result\n",
    "print(f\"First Model (LSTM ReLU):\")\n",
    "print(f\"AMZN - RMSE: {rmse_amzn_1}, MAE: {mae_amzn_1}, MAPE: {mape_amzn_1}\")\n",
    "print(f\"CSCO - RMSE: {rmse_csco_1}, MAE: {mae_csco_1}, MAPE: {mape_csco_1}\")\n",
    "\n",
    "print(f\"\\nSecond Model (LSTM tanh):\")\n",
    "print(f\"AMZN - RMSE: {rmse_amzn_2}, MAE: {mae_amzn_2}, MAPE: {mape_amzn_2}\")\n",
    "print(f\"CSCO - RMSE: {rmse_csco_2}, MAE: {mae_csco_2}, MAPE: {mape_csco_2}\")"
   ]
  },
  {
   "cell_type": "markdown",
   "id": "bd493cdd",
   "metadata": {},
   "source": [
    "Analysis dari evaluasi: Keduanya di run sebanyak 20 epochs. \n",
    "Dapat disimpulkan dari hasil epoch dan hasil evaluasi di atas bahwa: Baik untuk CSCO, tetapi buruk untuk AMZN. \n",
    "- Model 1: \n",
    "Model 1 yang merupakan baseline model using relu memberikan hasil loss cukup tinggi untuk AMZN yaitu >10000. Sedangkan untuk CSCO memberikan hasil yang cukup baik yaitu loss <1. Hal ini berarti model1 membuat prediksi yang cukup akurat untuk CSCO dan prediksi yang cukup buruk untuk AMZN. Jika dilihat dari evaluasinya juga mendukung statement sebelumnya. \n",
    "- Model 2: \n",
    "Untuk Model 2 juga kurang lebih sama seperti model 1, yaitu baik untuk CSCO, tetapi buruk untuk AMZN. Bahkan dengan menggunakan model2 RMSE, MAE, dan MAPE AMZN lebih tinggi lagi. Tetapi untuk CSCO sudah lebih baik dari model sebelumnya. \n",
    "- Hasil loss yang naik turun dapat disebabkan karena data yang kompleks dan hyperparemeter tuning yang belum optimal. \n",
    "- Analisis metrics: \n",
    "AMZN RMSE 52.9 MAE 42.04\n",
    "CSCO RMSE 0.88 MAE 0.61\n",
    "Hal ini berarti bahwa prediksi pada model CSCO lebih baik dibandingkan AMZN serta tingkat kesalahan prediksi untuk CSCO lebih rendah dibandingkan AMZN. \n",
    "\n",
    "Dengan demikian dapat saya simpulkan bahwa mungkin yang menyebabkan AMZN memiliki prediksi yang buruk dari kedua model adalah karena datanya overfit seta data yang lebih fluktuatif dibandingkan data CSCO. Hal ini menyebabkan model yang saya buat sulit untuk mempelajari data dan membuat prediksi. "
   ]
  }
 ],
 "metadata": {
  "kernelspec": {
   "display_name": "Python 3 (ipykernel)",
   "language": "python",
   "name": "python3"
  },
  "language_info": {
   "codemirror_mode": {
    "name": "ipython",
    "version": 3
   },
   "file_extension": ".py",
   "mimetype": "text/x-python",
   "name": "python",
   "nbconvert_exporter": "python",
   "pygments_lexer": "ipython3",
   "version": "3.9.13"
  }
 },
 "nbformat": 4,
 "nbformat_minor": 5
}
